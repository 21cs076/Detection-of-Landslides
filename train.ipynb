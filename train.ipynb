{
  "cells": [
    {
      "cell_type": "markdown",
      "metadata": {
        "id": "view-in-github",
        "colab_type": "text"
      },
      "source": [
        "<a href=\"https://colab.research.google.com/github/21cs076/Real-Time-Landslide-Detection-and-Buried-Vehicle-Identification-using-YOLOv8/blob/main/train.ipynb\" target=\"_parent\"><img src=\"https://colab.research.google.com/assets/colab-badge.svg\" alt=\"Open In Colab\"/></a>"
      ]
    },
    {
      "cell_type": "code",
      "execution_count": null,
      "metadata": {
        "id": "Ewl1p47Skgdv",
        "collapsed": true
      },
      "outputs": [],
      "source": [
        "!pip install ultralytics\n",
        "!pip install roboflow\n",
        "\n",
        "from ultralytics import YOLO\n",
        "\n",
        "# Load YOLOv8 model\n",
        "model = YOLO('yolov10n.pt')\n",
        "\n",
        "# Perform inference on an image from Google Drive\n",
        "results = model('https://ultralytics.com/images/bus.jpg')\n",
        "\n",
        "# Iterate through the results and display each\n",
        "for result in results:\n",
        "    result.show()"
      ]
    },
    {
      "cell_type": "code",
      "source": [
        "from roboflow import Roboflow\n",
        "rf = Roboflow(api_key=\"4MptKsSsONT0fnQsIDc2\")\n",
        "project = rf.workspace(\"deslizamentos\").project(\"landslide-detection-augmentation\")\n",
        "version = project.version(12)\n",
        "dataset = version.download(\"yolov8\")\n"
      ],
      "metadata": {
        "collapsed": true,
        "id": "NikWQ4stMuQM"
      },
      "execution_count": null,
      "outputs": []
    },
    {
      "cell_type": "code",
      "execution_count": null,
      "metadata": {
        "id": "SdGtmANZkgdz",
        "collapsed": true
      },
      "outputs": [],
      "source": [
        "from ultralytics import YOLO\n",
        "\n",
        "# Load a pre-trained YOLOv8 model\n",
        "model = YOLO(\"yolov10n.pt\")\n",
        "\n",
        "# Train the model on your Landslide dataset\n",
        "model.train(\n",
        "    data=\"/content/Landslide-Detection-Augmentation-12/data.yaml\",  # Path to your data.yaml file\n",
        "    epochs=100,  # Number of epochs (adjust based on your needs)\n",
        "    batch=16,   # Batch size (adjust based on GPU memory), (16), 32, 64, 128\n",
        "    imgsz=736,  # Image size for training ((640 is a good choice), 736, 832), 896 pixels.\n",
        "    project=\"runs/train\",  # Directory to save training results\n",
        "    name=\"landslide_detection\",  # Name for the training run\n",
        "    exist_ok=True  # Overwrite existing results if any\n",
        ")\n",
        "\n",
        "model.save(\"/content/Landslide-Detection-Augmentation-12/best736.pt\")"
      ]
    },
    {
      "cell_type": "code",
      "source": [
        "from ultralytics import YOLO\n",
        "\n",
        "# Load the trained YOLO model\n",
        "model = YOLO(\"/content/Landslide-Detection-Augmentation-12/best736.pt\")\n",
        "# Evaluate the model using the val() method\n",
        "metrics = model.val(data=\"/content/Landslide-Detection-Augmentation-12/data.yaml\", task=\"detect\")\n",
        "\n",
        "# Print evaluation metrics\n",
        "print(f\"mAP: {metrics.box.maps}\")\n",
        "print(f\"mAP50: {metrics.box.map50}\")\n",
        "print(f\"mAP75: {metrics.box.map75}\")  # mAP at IoU thresholds of 50% (mAP50) and 75% (mAP75)"
      ],
      "metadata": {
        "id": "mbGLQqWq_7hk",
        "outputId": "5aaccad2-fe74-4f2d-cc91-762ced75836c",
        "colab": {
          "base_uri": "https://localhost:8080/"
        }
      },
      "execution_count": 5,
      "outputs": [
        {
          "output_type": "stream",
          "name": "stdout",
          "text": [
            "Ultralytics 8.3.57 🚀 Python-3.10.12 torch-2.5.1+cu121 CUDA:0 (Tesla T4, 15102MiB)\n",
            "YOLOv10n summary (fused): 285 layers, 2,695,196 parameters, 0 gradients, 8.2 GFLOPs\n"
          ]
        },
        {
          "output_type": "stream",
          "name": "stderr",
          "text": [
            "\u001b[34m\u001b[1mval: \u001b[0mScanning /content/Landslide-Detection-Augmentation-12/valid/labels.cache... 115 images, 37 backgrounds, 0 corrupt: 100%|██████████| 115/115 [00:00<?, ?it/s]\n",
            "                 Class     Images  Instances      Box(P          R      mAP50  mAP50-95): 100%|██████████| 8/8 [00:05<00:00,  1.34it/s]\n"
          ]
        },
        {
          "output_type": "stream",
          "name": "stdout",
          "text": [
            "                   all        115        162       0.66      0.431      0.478       0.22\n",
            "               Fissure         29         60       0.61      0.333       0.39      0.167\n",
            "             Landslide         61        102       0.71      0.529      0.566      0.273\n",
            "Speed: 0.4ms preprocess, 11.1ms inference, 0.0ms loss, 0.7ms postprocess per image\n",
            "Results saved to \u001b[1mruns/detect/val\u001b[0m\n",
            "mAP: [    0.16666     0.27272]\n",
            "mAP50: 0.47777222619063353\n",
            "mAP75: 0.2192795409876977\n"
          ]
        }
      ]
    },
    {
      "cell_type": "code",
      "source": [
        "from google.colab import files\n",
        "uploaded = files.upload()\n",
        "\n",
        "import os\n",
        "os.listdir('/content')"
      ],
      "metadata": {
        "id": "wuVPG_XJdVH7"
      },
      "execution_count": null,
      "outputs": []
    },
    {
      "cell_type": "code",
      "source": [
        "!pip install onnx\n",
        "\n",
        "import torch\n",
        "import onnx\n",
        "import numpy as np\n",
        "\n",
        "# Assuming 'model' is already defined and loaded with your trained model\n",
        "onnx_model_path = \"/content/Landslide-Detection-Augmentation-12/lsmodel.onnx\"\n",
        "torch.onnx.export(\n",
        "    model,\n",
        "    torch.randn(1, 3, 640, 640),  # Dummy input for the model\n",
        "    onnx_model_path,\n",
        "    opset_version=11,\n",
        "    input_names=[\"input\"],\n",
        "    output_names=[\"output\"]\n",
        ")\n",
        "\n",
        "print(f\"Model has been converted to ONNX format and saved at: {onnx_model_path}\")"
      ],
      "metadata": {
        "id": "BMxjjxn25aAw"
      },
      "execution_count": null,
      "outputs": []
    },
    {
      "cell_type": "code",
      "execution_count": null,
      "metadata": {
        "id": "nHYVsTg_kgd0"
      },
      "outputs": [],
      "source": [
        "# Clone YOLOv8 repository\n",
        "!git clone https://github.com/ultralytics/ultralytics.git\n",
        "%cd ultralytics"
      ]
    }
  ],
  "metadata": {
    "language_info": {
      "name": "python"
    },
    "colab": {
      "provenance": [],
      "gpuType": "T4",
      "include_colab_link": true
    },
    "kernelspec": {
      "name": "python3",
      "display_name": "Python 3"
    },
    "accelerator": "GPU"
  },
  "nbformat": 4,
  "nbformat_minor": 0
}