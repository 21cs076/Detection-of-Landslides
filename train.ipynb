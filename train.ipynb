{
  "cells": [
    {
      "cell_type": "markdown",
      "metadata": {
        "id": "view-in-github",
        "colab_type": "text"
      },
      "source": [
        "<a href=\"https://colab.research.google.com/github/21cs076/Real-Time-Landslide-Detection-and-Buried-Vehicle-Identification-using-YOLOv8/blob/main/train.ipynb\" target=\"_parent\"><img src=\"https://colab.research.google.com/assets/colab-badge.svg\" alt=\"Open In Colab\"/></a>"
      ]
    },
    {
      "cell_type": "code",
      "execution_count": null,
      "metadata": {
        "id": "Ewl1p47Skgdv",
        "collapsed": true
      },
      "outputs": [],
      "source": [
        "!pip install ultralytics\n",
        "\n",
        "from ultralytics import YOLO\n",
        "model = YOLO('yolov10n.pt')\n",
        "\n",
        "#results = model('/content/Wp.jpg')\n",
        "#for result in results:\n",
        "    #result.show()"
      ]
    },
    {
      "cell_type": "code",
      "source": [
        "!pip install roboflow\n",
        "\n",
        "from roboflow import Roboflow\n",
        "rf = Roboflow(api_key=\"4MptKsSsONT0fnQsIDc2\")\n",
        "project = rf.workspace(\"deslizamentos\").project(\"landslide-detection-augmentation\")\n",
        "version = project.version(12)\n",
        "dataset = version.download(\"yolov11\")"
      ],
      "metadata": {
        "collapsed": true,
        "id": "NikWQ4stMuQM"
      },
      "execution_count": null,
      "outputs": []
    },
    {
      "cell_type": "code",
      "source": [
        "import albumentations as A\n",
        "import cv2\n",
        "import os\n",
        "import numpy as np\n",
        "\n",
        "# Define augmentation pipeline\n",
        "transform = A.Compose([\n",
        "    A.HorizontalFlip(p=0.5),\n",
        "    A.VerticalFlip(p=0.5),\n",
        "    A.Rotate(limit=40, p=0.5),\n",
        "    A.RandomBrightnessContrast(p=0.2),\n",
        "], bbox_params=A.BboxParams(format='yolo', label_fields=['class_labels'], min_visibility=0.2))\n",
        "\n",
        "def read_label(label_path):\n",
        "    labels = []\n",
        "    with open(label_path, 'r') as file:\n",
        "        for line in file.readlines():\n",
        "            if line.strip():\n",
        "                class_id, x, y, w, h = map(float, line.strip().split())\n",
        "                labels.append([class_id, x, y, w, h])\n",
        "    return np.array(labels)\n",
        "\n",
        "def save_label(label_path, labels):\n",
        "    with open(label_path, 'w') as file:\n",
        "        for label in labels:\n",
        "            file.write(' '.join(map(str, label)) + '\\n')\n",
        "\n",
        "def augment_and_save(image_path, label_path, save_image_path, save_label_path, transform, num_augmented):\n",
        "    image = cv2.imread(image_path)\n",
        "    labels = read_label(label_path)\n",
        "\n",
        "    if labels.size == 0:  # Skip augmentation if no labels are found\n",
        "        return\n",
        "\n",
        "    class_labels = labels[:, 0]\n",
        "    bboxes = labels[:, 1:]\n",
        "\n",
        "    for i in range(num_augmented):\n",
        "        transformed = transform(image=image, bboxes=bboxes, class_labels=class_labels)\n",
        "        augmented_image = transformed['image']\n",
        "        augmented_bboxes = transformed['bboxes']\n",
        "\n",
        "        if len(augmented_bboxes) == 0:  # Skip if no bounding boxes remain after augmentation\n",
        "            continue\n",
        "\n",
        "        augmented_labels = np.hstack((np.array(transformed['class_labels'])[:, np.newaxis], augmented_bboxes))\n",
        "\n",
        "        augmented_image_path = os.path.join(save_image_path, f\"aug_{i}_{os.path.basename(image_path)}\")\n",
        "        augmented_label_path = os.path.join(save_label_path, f\"aug_{i}_{os.path.basename(label_path)}\")\n",
        "\n",
        "        cv2.imwrite(augmented_image_path, augmented_image)\n",
        "        save_label(augmented_label_path, augmented_labels)\n",
        "\n",
        "# Paths to your dataset images and labels\n",
        "dataset_image_path = f\"{dataset.location}/train/images\"\n",
        "dataset_label_path = f\"{dataset.location}/train/labels\"\n",
        "augmented_image_path = f\"{dataset.location}/aug/images\"\n",
        "augmented_label_path = f\"{dataset.location}/aug/labels\"\n",
        "\n",
        "os.makedirs(augmented_image_path, exist_ok=True)\n",
        "os.makedirs(augmented_label_path, exist_ok=True)\n",
        "\n",
        "# Augment each image and its corresponding label in the dataset\n",
        "for image_name in os.listdir(dataset_image_path):\n",
        "    image_path = os.path.join(dataset_image_path, image_name)\n",
        "    label_path = os.path.join(dataset_label_path, image_name.replace('.jpg', '.txt'))\n",
        "    augment_and_save(image_path, label_path, augmented_image_path, augmented_label_path, transform, num_augmented=5)"
      ],
      "metadata": {
        "id": "kplnsJ3h2e24",
        "colab": {
          "base_uri": "https://localhost:8080/"
        },
        "outputId": "0728d982-c900-4651-f50a-3af8de1e10b4"
      },
      "execution_count": 3,
      "outputs": [
        {
          "output_type": "stream",
          "name": "stderr",
          "text": [
            "A new version of Albumentations is available: 2.0.0 (you have 1.4.20). Upgrade using: pip install -U albumentations. To disable automatic update checks, set the environment variable NO_ALBUMENTATIONS_UPDATE to 1.\n"
          ]
        }
      ]
    },
    {
      "cell_type": "code",
      "source": [
        "import shutil\n",
        "import os\n",
        "\n",
        "# Ensure the augmented directories exist\n",
        "os.makedirs(augmented_image_path, exist_ok=True)\n",
        "os.makedirs(augmented_label_path, exist_ok=True)\n",
        "\n",
        "# Copy original images to the augmented images directory\n",
        "for image_name in os.listdir(dataset_image_path):\n",
        "    src_image_path = os.path.join(dataset_image_path, image_name)\n",
        "    dst_image_path = os.path.join(augmented_image_path, image_name)\n",
        "    shutil.copy(src_image_path, dst_image_path)\n",
        "\n",
        "# Copy original labels to the augmented labels directory\n",
        "for label_name in os.listdir(dataset_label_path):\n",
        "    src_label_path = os.path.join(dataset_label_path, label_name)\n",
        "    dst_label_path = os.path.join(augmented_label_path, label_name)\n",
        "    shutil.copy(src_label_path, dst_label_path)\n",
        "\n",
        "\n",
        "import yaml\n",
        "data = {\n",
        "    'train': f\"{dataset.location}/aug/images\",\n",
        "    'val': f\"{dataset.location}/valid/images\",\n",
        "    'test': f\"{dataset.location}/test/images\",\n",
        "    'nc': 2,\n",
        "    'names': ['Fissure', 'Landslide']\n",
        "}\n",
        "with open(f\"{dataset.location}/data.yaml\", 'w') as file:\n",
        "    yaml.dump(data, file, default_flow_style=False)"
      ],
      "metadata": {
        "id": "jm71ZEHU2gU6"
      },
      "execution_count": 4,
      "outputs": []
    },
    {
      "cell_type": "code",
      "execution_count": null,
      "metadata": {
        "id": "SdGtmANZkgdz",
        "collapsed": true,
        "colab": {
          "base_uri": "https://localhost:8080/"
        },
        "outputId": "31392a19-7c38-4433-c1cf-fb0151256357"
      },
      "outputs": [
        {
          "output_type": "stream",
          "name": "stdout",
          "text": [
            "Ultralytics 8.3.61 🚀 Python-3.10.12 torch-2.5.1+cu121 CPU (AMD EPYC 7B12)\n",
            "\u001b[34m\u001b[1mengine/trainer: \u001b[0mtask=detect, mode=train, model=yolov10n.pt, data=/content/Landslide-Detection-Augmentation-12/data.yaml, epochs=100, time=None, patience=100, batch=16, imgsz=640, save=True, save_period=-1, cache=False, device=None, workers=8, project=/content/Landslide-Detection-Augmentation-12/runs/train, name=landslide_detection, exist_ok=True, pretrained=True, optimizer=auto, verbose=True, seed=0, deterministic=True, single_cls=False, rect=False, cos_lr=False, close_mosaic=10, resume=False, amp=True, fraction=1.0, profile=False, freeze=None, multi_scale=False, overlap_mask=True, mask_ratio=4, dropout=0.0, val=True, split=val, save_json=False, save_hybrid=False, conf=None, iou=0.7, max_det=300, half=False, dnn=False, plots=True, source=None, vid_stride=1, stream_buffer=False, visualize=False, augment=False, agnostic_nms=False, classes=None, retina_masks=False, embed=None, show=False, save_frames=False, save_txt=False, save_conf=False, save_crop=False, show_labels=True, show_conf=True, show_boxes=True, line_width=None, format=torchscript, keras=False, optimize=False, int8=False, dynamic=False, simplify=True, opset=None, workspace=None, nms=False, lr0=0.01, lrf=0.01, momentum=0.937, weight_decay=0.0005, warmup_epochs=3.0, warmup_momentum=0.8, warmup_bias_lr=0.1, box=7.5, cls=0.5, dfl=1.5, pose=12.0, kobj=1.0, nbs=64, hsv_h=0.015, hsv_s=0.7, hsv_v=0.4, degrees=0.0, translate=0.1, scale=0.5, shear=0.0, perspective=0.0, flipud=0.0, fliplr=0.5, bgr=0.0, mosaic=1.0, mixup=0.0, copy_paste=0.0, copy_paste_mode=flip, auto_augment=randaugment, erasing=0.4, crop_fraction=1.0, cfg=None, tracker=botsort.yaml, save_dir=/content/Landslide-Detection-Augmentation-12/runs/train/landslide_detection\n",
            "Downloading https://ultralytics.com/assets/Arial.ttf to '/root/.config/Ultralytics/Arial.ttf'...\n"
          ]
        },
        {
          "output_type": "stream",
          "name": "stderr",
          "text": [
            "100%|██████████| 755k/755k [00:00<00:00, 13.6MB/s]\n"
          ]
        },
        {
          "output_type": "stream",
          "name": "stdout",
          "text": [
            "Overriding model.yaml nc=80 with nc=2\n",
            "\n",
            "                   from  n    params  module                                       arguments                     \n",
            "  0                  -1  1       464  ultralytics.nn.modules.conv.Conv             [3, 16, 3, 2]                 \n",
            "  1                  -1  1      4672  ultralytics.nn.modules.conv.Conv             [16, 32, 3, 2]                \n",
            "  2                  -1  1      7360  ultralytics.nn.modules.block.C2f             [32, 32, 1, True]             \n",
            "  3                  -1  1     18560  ultralytics.nn.modules.conv.Conv             [32, 64, 3, 2]                \n",
            "  4                  -1  2     49664  ultralytics.nn.modules.block.C2f             [64, 64, 2, True]             \n",
            "  5                  -1  1      9856  ultralytics.nn.modules.block.SCDown          [64, 128, 3, 2]               \n",
            "  6                  -1  2    197632  ultralytics.nn.modules.block.C2f             [128, 128, 2, True]           \n",
            "  7                  -1  1     36096  ultralytics.nn.modules.block.SCDown          [128, 256, 3, 2]              \n",
            "  8                  -1  1    460288  ultralytics.nn.modules.block.C2f             [256, 256, 1, True]           \n",
            "  9                  -1  1    164608  ultralytics.nn.modules.block.SPPF            [256, 256, 5]                 \n",
            " 10                  -1  1    249728  ultralytics.nn.modules.block.PSA             [256, 256]                    \n",
            " 11                  -1  1         0  torch.nn.modules.upsampling.Upsample         [None, 2, 'nearest']          \n",
            " 12             [-1, 6]  1         0  ultralytics.nn.modules.conv.Concat           [1]                           \n",
            " 13                  -1  1    148224  ultralytics.nn.modules.block.C2f             [384, 128, 1]                 \n",
            " 14                  -1  1         0  torch.nn.modules.upsampling.Upsample         [None, 2, 'nearest']          \n",
            " 15             [-1, 4]  1         0  ultralytics.nn.modules.conv.Concat           [1]                           \n",
            " 16                  -1  1     37248  ultralytics.nn.modules.block.C2f             [192, 64, 1]                  \n",
            " 17                  -1  1     36992  ultralytics.nn.modules.conv.Conv             [64, 64, 3, 2]                \n",
            " 18            [-1, 13]  1         0  ultralytics.nn.modules.conv.Concat           [1]                           \n",
            " 19                  -1  1    123648  ultralytics.nn.modules.block.C2f             [192, 128, 1]                 \n",
            " 20                  -1  1     18048  ultralytics.nn.modules.block.SCDown          [128, 128, 3, 2]              \n",
            " 21            [-1, 10]  1         0  ultralytics.nn.modules.conv.Concat           [1]                           \n",
            " 22                  -1  1    282624  ultralytics.nn.modules.block.C2fCIB          [384, 256, 1, True, True]     \n",
            " 23        [16, 19, 22]  1    862108  ultralytics.nn.modules.head.v10Detect        [2, [64, 128, 256]]           \n",
            "YOLOv10n summary: 385 layers, 2,707,820 parameters, 2,707,804 gradients, 8.4 GFLOPs\n",
            "\n",
            "Transferred 493/595 items from pretrained weights\n",
            "\u001b[34m\u001b[1mTensorBoard: \u001b[0mStart with 'tensorboard --logdir /content/Landslide-Detection-Augmentation-12/runs/train/landslide_detection', view at http://localhost:6006/\n",
            "Freezing layer 'model.23.dfl.conv.weight'\n"
          ]
        },
        {
          "output_type": "stream",
          "name": "stderr",
          "text": [
            "\u001b[34m\u001b[1mtrain: \u001b[0mScanning /content/Landslide-Detection-Augmentation-12/aug/labels... 4979 images, 423 backgrounds, 0 corrupt: 100%|██████████| 4979/4979 [00:02<00:00, 2180.09it/s]\n"
          ]
        },
        {
          "output_type": "stream",
          "name": "stdout",
          "text": [
            "\u001b[34m\u001b[1mtrain: \u001b[0mNew cache created: /content/Landslide-Detection-Augmentation-12/aug/labels.cache\n",
            "\u001b[34m\u001b[1malbumentations: \u001b[0mBlur(p=0.01, blur_limit=(3, 7)), MedianBlur(p=0.01, blur_limit=(3, 7)), ToGray(p=0.01, num_output_channels=3, method='weighted_average'), CLAHE(p=0.01, clip_limit=(1.0, 4.0), tile_grid_size=(8, 8))\n"
          ]
        },
        {
          "output_type": "stream",
          "name": "stderr",
          "text": [
            "\u001b[34m\u001b[1mval: \u001b[0mScanning /content/Landslide-Detection-Augmentation-12/valid/labels... 115 images, 37 backgrounds, 0 corrupt: 100%|██████████| 115/115 [00:00<00:00, 2315.32it/s]\n"
          ]
        },
        {
          "output_type": "stream",
          "name": "stdout",
          "text": [
            "\u001b[34m\u001b[1mval: \u001b[0mNew cache created: /content/Landslide-Detection-Augmentation-12/valid/labels.cache\n",
            "Plotting labels to /content/Landslide-Detection-Augmentation-12/runs/train/landslide_detection/labels.jpg... \n",
            "\u001b[34m\u001b[1moptimizer:\u001b[0m 'optimizer=auto' found, ignoring 'lr0=0.01' and 'momentum=0.937' and determining best 'optimizer', 'lr0' and 'momentum' automatically... \n",
            "\u001b[34m\u001b[1moptimizer:\u001b[0m AdamW(lr=0.001667, momentum=0.9) with parameter groups 95 weight(decay=0.0), 108 weight(decay=0.0005), 107 bias(decay=0.0)\n",
            "\u001b[34m\u001b[1mTensorBoard: \u001b[0mmodel graph visualization added ✅\n",
            "Image sizes 640 train, 640 val\n",
            "Using 0 dataloader workers\n",
            "Logging results to \u001b[1m/content/Landslide-Detection-Augmentation-12/runs/train/landslide_detection\u001b[0m\n",
            "Starting training for 100 epochs...\n",
            "\n",
            "      Epoch    GPU_mem   box_loss   cls_loss   dfl_loss  Instances       Size\n"
          ]
        },
        {
          "output_type": "stream",
          "name": "stderr",
          "text": [
            "      1/100         0G      4.965      12.48      3.133         51        640:  12%|█▏        | 37/312 [06:53<50:35, 11.04s/it]"
          ]
        }
      ],
      "source": [
        "from ultralytics import YOLO\n",
        "from google.colab import files\n",
        "\n",
        "# Load a pre-trained YOLOv8 model\n",
        "model = YOLO(\"yolov10n.pt\")\n",
        "\n",
        "# Train the model on your Landslide dataset\n",
        "model.train(\n",
        "    data = f\"{dataset.location}/data.yaml\",  # Path to your data.yaml file\n",
        "    epochs=100,  # Number of epochs (adjust based on your needs)\n",
        "    batch=16,   # Batch size (adjust based on GPU memory), (16), 32, 64, 128\n",
        "    imgsz=640,  # Image size for training ((640 is a good choice), 736)\n",
        "    project = f\"{dataset.location}/runs/train\",  # Directory to save training results\n",
        "    name=\"landslide_detection\",  # Name for the training run\n",
        "    exist_ok=True  # Overwrite existing results if any\n",
        ")\n",
        "\n",
        "# Download the saved model\n",
        "files.download(f\"{dataset.location}runs/train/landslide_detection/weights/best.pt\")"
      ]
    },
    {
      "cell_type": "code",
      "source": [
        "from ultralytics import YOLO\n",
        "\n",
        "# Load the trained YOLO model\n",
        "model = YOLO(f\"{dataset.location}/runs/train/landslide_detection/weights/best.pt\")\n",
        "\n",
        "# Evaluate the model using the val() method\n",
        "metrics = model.val(data=f\"{dataset.location}/data.yaml\", split='test')\n",
        "\n",
        "# Print evaluation metrics\n",
        "print(f\"mAP50: {metrics.box.map50}\") # mAP refers to the Average Precision at a single IoU threshold, often 50%.\n",
        "print(f\"mAP75: {metrics.box.map75}\") # mAP at IoU threshold of 75% (mAP75)"
      ],
      "metadata": {
        "id": "mbGLQqWq_7hk"
      },
      "execution_count": null,
      "outputs": []
    },
    {
      "cell_type": "code",
      "source": [
        "#from google.colab import files\n",
        "#uploaded = files.upload()\n",
        "\n",
        "#import os\n",
        "#os.listdir('/content')"
      ],
      "metadata": {
        "id": "wuVPG_XJdVH7"
      },
      "execution_count": null,
      "outputs": []
    },
    {
      "cell_type": "code",
      "source": [
        "import locale\n",
        "locale.setlocale(locale.LC_ALL, 'en_US.UTF-8')  # Set the locale to a UTF-8 compatible one\n",
        "\n",
        "import subprocess\n",
        "def install(package):\n",
        "    subprocess.check_call([sys.executable, \"-m\", \"pip\", \"install\", package])\n",
        "install(\"onnx\") # Installing onnx package\n",
        "\n",
        "import torch\n",
        "import onnx\n",
        "import numpy as np\n",
        "from google.colab import files\n",
        "\n",
        "onnx_model_path = f\"{dataset.location}/best.onnx\"\n",
        "torch.onnx.export(\n",
        "    model,\n",
        "    torch.randn(1, 3, 640, 640),  # Dummy input for the model\n",
        "    onnx_model_path,\n",
        "    opset_version=11,\n",
        "    input_names=[\"input\"],\n",
        "    output_names=[\"output\"]\n",
        ")\n",
        "\n",
        "files.download(f\"{dataset.location}/best.onnx\")"
      ],
      "metadata": {
        "id": "BMxjjxn25aAw"
      },
      "execution_count": null,
      "outputs": []
    },
    {
      "cell_type": "code",
      "execution_count": null,
      "metadata": {
        "id": "nHYVsTg_kgd0"
      },
      "outputs": [],
      "source": [
        "# Clone YOLOv8 repository\n",
        "!git clone https://github.com/ultralytics/ultralytics.git\n",
        "%cd ultralytics"
      ]
    }
  ],
  "metadata": {
    "language_info": {
      "name": "python"
    },
    "colab": {
      "provenance": [],
      "gpuType": "T4",
      "include_colab_link": true
    },
    "kernelspec": {
      "name": "python3",
      "display_name": "Python 3"
    },
    "accelerator": "GPU"
  },
  "nbformat": 4,
  "nbformat_minor": 0
}