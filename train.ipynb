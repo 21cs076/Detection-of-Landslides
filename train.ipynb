{
  "cells": [
    {
      "cell_type": "markdown",
      "metadata": {
        "id": "view-in-github",
        "colab_type": "text"
      },
      "source": [
        "<a href=\"https://colab.research.google.com/github/21cs076/Real-Time-Landslide-Detection-and-Buried-Vehicle-Identification-using-YOLOv8/blob/main/train.ipynb\" target=\"_parent\"><img src=\"https://colab.research.google.com/assets/colab-badge.svg\" alt=\"Open In Colab\"/></a>"
      ]
    },
    {
      "cell_type": "code",
      "execution_count": null,
      "metadata": {
        "id": "ID0xL-S7kgdy"
      },
      "outputs": [],
      "source": [
        "! nvidia-smi  # For GPU"
      ]
    },
    {
      "cell_type": "code",
      "execution_count": null,
      "metadata": {
        "id": "Ewl1p47Skgdv",
        "collapsed": true
      },
      "outputs": [],
      "source": [
        "# Install Ultralytics package\n",
        "!pip install ultralytics\n",
        "!pip install kagglehub\n",
        "\n",
        "from ultralytics import YOLO\n",
        "\n",
        "# Load YOLOv8 model\n",
        "model = YOLO('yolov8n.pt')\n",
        "\n",
        "# Perform inference on an image from Google Drive\n",
        "results = model('https://ultralytics.com/images/bus.jpg')\n",
        "\n",
        "# Iterate through the results and display each\n",
        "for result in results:\n",
        "    result.show()"
      ]
    },
    {
      "cell_type": "code",
      "source": [
        "import shutil\n",
        "import os\n",
        "\n",
        "# Define the path to the dataset\n",
        "dataset_path = '/root/.cache/kagglehub/datasets/pypiahmad/landslide4sense-challenge'\n",
        "\n",
        "# Check if the directory exists\n",
        "if os.path.exists(dataset_path):\n",
        "    # Remove the directory and its contents\n",
        "    shutil.rmtree(dataset_path)\n",
        "    print(f\"The dataset at {dataset_path} has been deleted.\")\n",
        "else:\n",
        "    print(f\"The dataset at {dataset_path} does not exist.\")\n",
        "\n",
        "import kagglehub\n",
        "import os\n",
        "\n",
        "# Replace the dataset with Landslide4Sense Challenge\n",
        "path = kagglehub.dataset_download(\"pypiahmad/landslide4sense-challenge\")\n",
        "\n",
        "print(\"Path to dataset files:\", path)"
      ],
      "metadata": {
        "id": "V51hREmHx1sP",
        "collapsed": true
      },
      "execution_count": null,
      "outputs": []
    },
    {
      "cell_type": "code",
      "source": [
        "import h5py\n",
        "import numpy as np\n",
        "from PIL import Image\n",
        "import os\n",
        "import shutil\n",
        "\n",
        "# Function to convert .h5 images to .jpg\n",
        "def convert_h5_images_to_jpg(h5_file_path, save_dir):\n",
        "    with h5py.File(h5_file_path, 'r') as h5f:\n",
        "        img_data = h5f['img'][:]  # Assuming 'img' is the key for image data\n",
        "\n",
        "        # Print the shape of the data for debugging\n",
        "        print(f\"Original shape: {img_data.shape}, dtype: {img_data.dtype}\")\n",
        "\n",
        "        # Select the first three channels for RGB\n",
        "        img_data = img_data[:, :, :3]\n",
        "\n",
        "        # Normalize and convert the data to uint8\n",
        "        img_data = (img_data * 255).astype(np.uint8)\n",
        "\n",
        "        # Ensure data is in RGB format\n",
        "        img = Image.fromarray(img_data, mode='RGB')\n",
        "\n",
        "        # Create the images directory if it doesn't exist\n",
        "        if not os.path.exists(save_dir):\n",
        "            os.makedirs(save_dir)\n",
        "\n",
        "        img_name = os.path.splitext(os.path.basename(h5_file_path))[0] + '.jpg'\n",
        "        img.save(os.path.join(save_dir, img_name))\n",
        "\n",
        "# Function to convert .h5 masks to .txt in YOLO format\n",
        "def convert_h5_masks_to_txt(h5_file_path, save_dir, img_nm):\n",
        "    with h5py.File(h5_file_path, 'r') as h5f:\n",
        "        mask_data = h5f['mask'][:]  # Assuming 'mask' is the key for mask data\n",
        "        txt_name = img_nm + '.txt'\n",
        "        #label_dir = os.path.join(save_dir, 'labels')\n",
        "\n",
        "        # Create the labels directory if it doesn't exist\n",
        "        if not os.path.exists(save_dir):\n",
        "            os.makedirs(save_dir)\n",
        "\n",
        "        with open(os.path.join(save_dir, txt_name), 'w') as f:\n",
        "            for mask in mask_data:\n",
        "                # Example: Convert mask to YOLO format and write to txt\n",
        "                # Assuming mask is [class, x_center, y_center, width, height]\n",
        "                yolo_format = ' '.join(map(str, mask))\n",
        "                f.write(yolo_format + '\\n')\n",
        "\n",
        "# Define input paths (updated dataset locations)\n",
        "train_img_path = '/root/.cache/kagglehub/datasets/pypiahmad/landslide4sense-challenge/versions/1/TrainData/img'\n",
        "train_mask_path = '/root/.cache/kagglehub/datasets/pypiahmad/landslide4sense-challenge/versions/1/TrainData/mask'\n",
        "test_img_path = '/root/.cache/kagglehub/datasets/pypiahmad/landslide4sense-challenge/versions/1/TestData/img'\n",
        "valid_img_path = '/root/.cache/kagglehub/datasets/pypiahmad/landslide4sense-challenge/versions/1/ValidData/img'\n",
        "\n",
        "# Define output paths for each dataset (images and labels separately)\n",
        "train_output_path = '/root/.cache/kagglehub/datasets/pypiahmad/landslide4sense-challenge/versions/1/TrainData'\n",
        "test_output_path = '/root/.cache/kagglehub/datasets/pypiahmad/landslide4sense-challenge/versions/1/TestData'\n",
        "valid_output_path = '/root/.cache/kagglehub/datasets/pypiahmad/landslide4sense-challenge/versions/1/ValidData'\n",
        "\n",
        "# Process TrainData img and mask\n",
        "img_files = [f for f in os.listdir(train_img_path) if f.startswith('image') and f.endswith('.h5')]\n",
        "mask_files = [f for f in os.listdir(train_mask_path) if f.startswith('mask') and f.endswith('.h5')]\n",
        "\n",
        "# Ensure both lists are sorted for consistent pairing\n",
        "img_files.sort()\n",
        "mask_files.sort()\n",
        "\n",
        "for img_file, mask_file in zip(img_files, mask_files):\n",
        "    # Convert images from .h5 to .jpg\n",
        "    convert_h5_images_to_jpg(os.path.join(train_img_path, img_file), os.path.join(train_output_path, 'images'))\n",
        "\n",
        "    # Convert masks from .h5 to .txt\n",
        "    img_nm = os.path.splitext(os.path.basename(os.path.join(train_img_path, img_file)))[0]\n",
        "    convert_h5_masks_to_txt(os.path.join(train_mask_path, mask_file), os.path.join(train_output_path, 'labels'), img_nm)\n",
        "\n",
        "# Process TestData img\n",
        "for file_name in os.listdir(test_img_path):\n",
        "    if file_name.startswith('image') and file_name.endswith('.h5'):\n",
        "        convert_h5_images_to_jpg(os.path.join(test_img_path, file_name), os.path.join(test_output_path, 'images'))\n",
        "\n",
        "# Process ValidData img\n",
        "for file_name in os.listdir(valid_img_path):\n",
        "    if file_name.startswith('image') and file_name.endswith('.h5'):\n",
        "        convert_h5_images_to_jpg(os.path.join(valid_img_path, file_name), os.path.join(valid_output_path, 'images'))\n",
        "\n",
        "# Optional: Delete img and mask folders after conversion\n",
        "shutil.rmtree(train_img_path)\n",
        "shutil.rmtree(train_mask_path)\n",
        "shutil.rmtree(test_img_path)\n",
        "shutil.rmtree(valid_img_path)\n"
      ],
      "metadata": {
        "id": "L7UiIQXP6yqV",
        "collapsed": true
      },
      "execution_count": null,
      "outputs": []
    },
    {
      "cell_type": "code",
      "source": [
        "import shutil\n",
        "from google.colab import files\n",
        "\n",
        "# Define the source and target paths\n",
        "dataset_path = \"/root/.cache/kagglehub/datasets/pypiahmad/landslide4sense-challenge/versions/1\"\n",
        "zip_file_path = \"/root/.cache/kagglehub/datasets/pypiahmad/landslide4sense-challenge/versions/1/landslide4sense_dataset.zip\"  # Adjust as needed for your environment\n",
        "\n",
        "# Compress the dataset folder into a zip file\n",
        "shutil.make_archive(base_name=zip_file_path.replace('.zip', ''), format='zip', root_dir=dataset_path)\n",
        "print(f\"Dataset compressed and saved to: {zip_file_path}\")\n",
        "\n",
        "# Download the ZIP file\n",
        "files.download(zip_file_path)\n"
      ],
      "metadata": {
        "id": "e1dFIn4GrY1m"
      },
      "execution_count": null,
      "outputs": []
    },
    {
      "cell_type": "code",
      "source": [
        "print(os.listdir(path))\n",
        "print(os.listdir('/root/.cache/kagglehub/datasets/pypiahmad/landslide4sense-challenge/versions/1/TrainData/images'))\n",
        "print(os.listdir('/root/.cache/kagglehub/datasets/pypiahmad/landslide4sense-challenge/versions/1/TrainData/labels'))\n",
        "print(os.listdir('/root/.cache/kagglehub/datasets/pypiahmad/landslide4sense-challenge/versions/1/ValidData/images'))\n",
        "print(os.listdir('/root/.cache/kagglehub/datasets/pypiahmad/landslide4sense-challenge/versions/1/TestData/images'))"
      ],
      "metadata": {
        "id": "Zu5btDfMpc6f"
      },
      "execution_count": null,
      "outputs": []
    },
    {
      "cell_type": "code",
      "source": [
        "import os\n",
        "\n",
        "image_dir = '/root/.cache/kagglehub/datasets/pypiahmad/landslide4sense-challenge/versions/1/TrainData/images'\n",
        "label_dir = '/root/.cache/kagglehub/datasets/pypiahmad/landslide4sense-challenge/versions/1/TrainData/labels'\n",
        "images = [f for f in os.listdir(image_dir) if f.endswith('.jpg')]\n",
        "\n",
        "for image in images:\n",
        "    label_file = os.path.splitext(image)[0] + '.txt'\n",
        "    if not os.path.exists(os.path.join(label_dir, label_file)):\n",
        "        print(f\"Missing label for image: {image}\")\n",
        "\n",
        "\n",
        "yaml_content = \"\"\"\n",
        "train: /root/.cache/kagglehub/datasets/pypiahmad/landslide4sense-challenge/versions/1/TrainData\n",
        "val: /root/.cache/kagglehub/datasets/pypiahmad/landslide4sense-challenge/versions/1/ValidData\n",
        "test: /root/.cache/kagglehub/datasets/pypiahmad/landslide4sense-challenge/versions/1/TestData\n",
        "\n",
        "nc: 2  # Number of classes (e.g., landslide, non-landslide)\n",
        "names: ['landslide', 'non-landslide']\n",
        "\"\"\"\n",
        "\n",
        "# Save the content to a .yaml file\n",
        "with open(\"/root/.cache/kagglehub/datasets/pypiahmad/landslide4sense-challenge/versions/1/dataset.yaml\", \"w\") as file:\n",
        "    file.write(yaml_content)\n",
        "\n",
        "# Verify the file was created successfully\n",
        "with open(\"/root/.cache/kagglehub/datasets/pypiahmad/landslide4sense-challenge/versions/1/dataset.yaml\", \"r\") as file:\n",
        "    print(file.read())\n"
      ],
      "metadata": {
        "collapsed": true,
        "id": "r3H8gl6EvVFt"
      },
      "execution_count": null,
      "outputs": []
    },
    {
      "cell_type": "code",
      "execution_count": null,
      "metadata": {
        "id": "SdGtmANZkgdz",
        "collapsed": true
      },
      "outputs": [],
      "source": [
        "from ultralytics import YOLO\n",
        "\n",
        "# Initialize model\n",
        "model = YOLO('yolov8n.pt')  # Use pre-trained weights\n",
        "\n",
        "# Define the training configuration\n",
        "epochs = 100  # You can adjust this as needed\n",
        "data_path = '/root/.cache/kagglehub/datasets/pypiahmad/landslide4sense-challenge/versions/1/dataset.yaml'\n",
        "imgsz = 640\n",
        "\n",
        "# Train the model\n",
        "#model.train(data=data_path, epochs=epochs, imgsz=imgsz)\n",
        "model.train(data=data_path, epochs=epochs, imgsz=imgsz, val=False)\n",
        "\n",
        "# Save the trained model in PyTorch format\n",
        "model.save('/root/.cache/kagglehub/datasets/pypiahmad/landslide4sense-challenge/versions/1/best_model.pt')\n",
        "\n",
        "# Export the model to ONNX format\n",
        "model.export(format='onnx', path='/root/.cache/kagglehub/datasets/pypiahmad/landslide4sense-challenge/versions/1/best_model.onnx')"
      ]
    },
    {
      "cell_type": "code",
      "source": [
        "import onnxruntime as ort\n",
        "import numpy as np\n",
        "\n",
        "# Load the exported ONNX model using onnxruntime for inference\n",
        "onnx_model_path = '/root/.cache/kagglehub/datasets/pypiahmad/landslide4sense-challenge/versions/1/best_model.onnx'\n",
        "onnx_session = ort.InferenceSession(onnx_model_path)\n",
        "\n",
        "# Inference example using ONNX model (dummy input)\n",
        "# Assuming input is a 640x640 image\n",
        "dummy_input = np.random.rand(1, 3, 640, 640).astype(np.float32)\n",
        "\n",
        "# Run inference\n",
        "outputs = onnx_session.run(None, {'images': dummy_input})\n",
        "\n",
        "# Print the outputs (you can process it based on your needs)\n",
        "print(outputs)\n"
      ],
      "metadata": {
        "id": "BMxjjxn25aAw"
      },
      "execution_count": null,
      "outputs": []
    },
    {
      "cell_type": "code",
      "execution_count": null,
      "metadata": {
        "id": "nrY6F2fokgd0"
      },
      "outputs": [],
      "source": [
        "\n",
        "# Perform inference\n",
        "results = model('/root/.cache/kagglehub/datasets/pypiahmad/landslide4sense-challenge/versions/1/TestData/image_1.jpg')\n",
        "\n",
        "# Display results\n",
        "results.show()\n"
      ]
    },
    {
      "cell_type": "code",
      "execution_count": null,
      "metadata": {
        "id": "nHYVsTg_kgd0"
      },
      "outputs": [],
      "source": [
        "# Clone YOLOv8 repository\n",
        "!git clone https://github.com/ultralytics/ultralytics.git\n",
        "%cd ultralytics\n"
      ]
    }
  ],
  "metadata": {
    "language_info": {
      "name": "python"
    },
    "colab": {
      "provenance": [],
      "gpuType": "T4",
      "include_colab_link": true
    },
    "kernelspec": {
      "name": "python3",
      "display_name": "Python 3"
    },
    "accelerator": "GPU"
  },
  "nbformat": 4,
  "nbformat_minor": 0
}