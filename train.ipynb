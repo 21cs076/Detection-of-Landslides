{
  "cells": [
    {
      "cell_type": "markdown",
      "metadata": {
        "id": "view-in-github",
        "colab_type": "text"
      },
      "source": [
        "<a href=\"https://colab.research.google.com/github/21cs076/Detection-of-Landslides/blob/main/train.ipynb\" target=\"_parent\"><img src=\"https://colab.research.google.com/assets/colab-badge.svg\" alt=\"Open In Colab\"/></a>"
      ]
    },
    {
      "cell_type": "code",
      "execution_count": null,
      "metadata": {
        "collapsed": true,
        "id": "Ewl1p47Skgdv"
      },
      "outputs": [],
      "source": [
        "!pip install ultralytics==8.3.72"
      ]
    },
    {
      "cell_type": "code",
      "execution_count": null,
      "metadata": {
        "id": "SdGtmANZkgdz"
      },
      "outputs": [],
      "source": [
        "from ultralytics import YOLO\n",
        "from google.colab import files\n",
        "\n",
        "model = YOLO(\"yolo11s.pt\")\n",
        "model.train(\n",
        "    data = \"/content/drive/MyDrive/Landslide_Dataset/data.yaml\",  # Path to your data.yaml file\n",
        "    epochs=80,  # Number of epochs (adjust based on your needs)\n",
        "    batch=16,   # Batch size (adjust based on GPU memory), (16), 32, 64, 128\n",
        "    imgsz=640,  # Image size for training ((640 is a good choice), 736)\n",
        "    project = \"/content/drive/MyDrive/Landslide_Dataset\",  # Directory to save training results\n",
        "    name=\"runs\",  # Name for the training run\n",
        "    exist_ok=True  # Overwrite existing results if any\n",
        "    save_period=10         # Save the model every 10 epochs\n",
        ")\n",
        "files.download(\"/content/drive/MyDrive/Landslide_Dataset/runs/weights/best.pt\")"
      ]
    },
    {
      "cell_type": "code",
      "source": [
        "from ultralytics import YOLO\n",
        "model = YOLO(\"/content/drive/MyDrive/Landslide_Dataset/runs/weights/best.pt\")\n",
        "#model = YOLO(\"/content/drive/MyDrive/models/lbest70m.pt\")\n",
        "\n",
        "tuned_conf = 0.25  # Increase confidence threshold to reduce false positives\n",
        "tuned_iou  = 0.45  # Adjust NMS IoU threshold to control box suppression behavior\n",
        "\n",
        "metrics = model.val(data=\"/content/drive/MyDrive/Landslide_Dataset/data.yaml\", split='test')\n",
        "#metrics = model.val(data=\"/content/drive/MyDrive/Landslide_Dataset/data.yaml\", split='test', conf=tuned_conf, iou=tuned_iou)\n",
        "\n",
        "print(f\"mAP50: {metrics.box.map50}\")  # Average Precision at IoU 0.5\n",
        "print(f\"mAP75: {metrics.box.map75}\")  # Average Precision at IoU 0.75"
      ],
      "metadata": {
        "id": "cOXFPBdjL6OW",
        "outputId": "8d9a0319-45a9-4983-d6f7-e74ef5efdde6",
        "colab": {
          "base_uri": "https://localhost:8080/"
        }
      },
      "execution_count": 5,
      "outputs": [
        {
          "metadata": {
            "tags": null
          },
          "name": "stdout",
          "output_type": "stream",
          "text": [
            "Ultralytics 8.3.72 🚀 Python-3.11.11 torch-2.5.1+cu124 CPU (Intel Xeon 2.20GHz)\n",
            "YOLO11s summary (fused): 238 layers, 9,413,574 parameters, 0 gradients, 21.3 GFLOPs\n"
          ]
        },
        {
          "metadata": {
            "tags": null
          },
          "name": "stderr",
          "output_type": "stream",
          "text": [
            "\u001b[34m\u001b[1mval: \u001b[0mScanning /content/drive/MyDrive/Landslide_Dataset/test/labels.cache... 574 images, 44 backgrounds, 0 corrupt: 100%|██████████| 574/574 [00:00<?, ?it/s]\n",
            "                 Class     Images  Instances      Box(P          R      mAP50  mAP50-95): 100%|██████████| 36/36 [05:10<00:00,  8.63s/it]\n"
          ]
        },
        {
          "metadata": {
            "tags": null
          },
          "name": "stdout",
          "output_type": "stream",
          "text": [
            "                   all        574       1045      0.664      0.593      0.648       0.33\n",
            "               Fissure        177        338      0.716      0.343      0.474      0.202\n",
            "             Landslide        426        707      0.612      0.843      0.821      0.458\n",
            "Speed: 5.6ms preprocess, 487.7ms inference, 0.0ms loss, 0.5ms postprocess per image\n",
            "Results saved to \u001b[1mruns/detect/val2\u001b[0m\n",
            "Ultralytics 8.3.72 🚀 Python-3.11.11 torch-2.5.1+cu124 CPU (Intel Xeon 2.20GHz)\n"
          ]
        },
        {
          "output_type": "stream",
          "name": "stderr",
          "text": [
            "\u001b[34m\u001b[1mval: \u001b[0mScanning /content/drive/MyDrive/Landslide_Dataset/test/labels.cache... 574 images, 44 backgrounds, 0 corrupt: 100%|██████████| 574/574 [00:00<?, ?it/s]\n",
            "                 Class     Images  Instances      Box(P          R      mAP50  mAP50-95): 100%|██████████| 36/36 [04:53<00:00,  8.15s/it]\n"
          ]
        },
        {
          "output_type": "stream",
          "name": "stdout",
          "text": [
            "                   all        574       1045      0.703      0.602      0.692      0.379\n",
            "               Fissure        177        338      0.744      0.361      0.553      0.268\n",
            "             Landslide        426        707      0.663      0.843       0.83       0.49\n",
            "Speed: 5.1ms preprocess, 460.6ms inference, 0.0ms loss, 0.6ms postprocess per image\n",
            "Results saved to \u001b[1mruns/detect/val3\u001b[0m\n",
            "mAP50: 0.6919854486293127\n",
            "mAP75: 0.3521118813462889\n"
          ]
        }
      ]
    },
    {
      "cell_type": "code",
      "source": [
        "from google.colab import drive\n",
        "drive.mount('/content/drive')"
      ],
      "metadata": {
        "id": "6MpDrjkIGaC7",
        "outputId": "e7abd205-cd28-470b-e098-909719db56df",
        "colab": {
          "base_uri": "https://localhost:8080/"
        }
      },
      "execution_count": 3,
      "outputs": [
        {
          "output_type": "stream",
          "name": "stdout",
          "text": [
            "Mounted at /content/drive\n"
          ]
        }
      ]
    }
  ],
  "metadata": {
    "accelerator": "GPU",
    "colab": {
      "gpuType": "T4",
      "provenance": [],
      "include_colab_link": true
    },
    "kernelspec": {
      "display_name": "Python 3",
      "name": "python3"
    },
    "language_info": {
      "name": "python"
    }
  },
  "nbformat": 4,
  "nbformat_minor": 0
}