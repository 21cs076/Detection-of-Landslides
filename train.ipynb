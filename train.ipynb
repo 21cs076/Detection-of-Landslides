{
  "cells": [
    {
      "cell_type": "markdown",
      "metadata": {
        "id": "view-in-github",
        "colab_type": "text"
      },
      "source": [
        "<a href=\"https://colab.research.google.com/github/21cs076/Detection-of-Landslides/blob/main/train.ipynb\" target=\"_parent\"><img src=\"https://colab.research.google.com/assets/colab-badge.svg\" alt=\"Open In Colab\"/></a>"
      ]
    },
    {
      "cell_type": "code",
      "execution_count": null,
      "metadata": {
        "collapsed": true,
        "id": "Ewl1p47Skgdv"
      },
      "outputs": [],
      "source": [
        "!pip install ultralytics==8.3.72"
      ]
    },
    {
      "cell_type": "code",
      "execution_count": null,
      "metadata": {
        "id": "SdGtmANZkgdz"
      },
      "outputs": [],
      "source": [
        "from ultralytics import YOLO\n",
        "from google.colab import files\n",
        "\n",
        "model = YOLO(\"yolo11s.pt\")\n",
        "model.train(\n",
        "    data = \"/content/drive/MyDrive/Landslide_Dataset/data.yaml\",  # Path to your data.yaml file\n",
        "    epochs=80,  # Number of epochs (adjust based on your needs)\n",
        "    batch=16,   # Batch size (adjust based on GPU memory), (16), 32, 64, 128\n",
        "    imgsz=640,  # Image size for training ((640 is a good choice), 736)\n",
        "    project = \"/content/drive/MyDrive/Landslide_Dataset\",  # Directory to save training results\n",
        "    name=\"runs\",  # Name for the training run\n",
        "    exist_ok=True  # Overwrite existing results if any\n",
        "    save_period=10         # Save the model every 10 epochs\n",
        ")\n",
        "files.download(\"/content/drive/MyDrive/Landslide_Dataset/runs/weights/best.pt\")"
      ]
    },
    {
      "cell_type": "code",
      "source": [
        "from ultralytics import YOLO\n",
        "model = YOLO(\"/content/drive/MyDrive/Landslide_Dataset/runs/weights/best.pt\")\n",
        "#model = YOLO(\"/content/drive/MyDrive/models/lbest70m.pt\")\n",
        "\n",
        "tuned_conf = 0.6  # Increase confidence threshold to reduce false positives\n",
        "tuned_iou  = 0.5  # Adjust NMS IoU threshold to control box suppression behavior\n",
        "\n",
        "results = model.predict(\n",
        "    source=\"/content/drive/MyDrive/Landslide_Dataset/test/images\",  # Path to test images\n",
        "    conf=tuned_conf,  # Apply tuned confidence threshold\n",
        "    iou=tuned_iou,    # Apply tuned NMS IoU threshold\n",
        "    show=True\n",
        ")\n",
        "\n",
        "# Alternatively, you can also pass these parameters when calling model.val.\n",
        "# Note: Depending on your version, model.val may or may not directly support conf and iou parameters.\n",
        "metrics = model.val(\n",
        "    data=\"/content/drive/MyDrive/Landslide_Dataset/data.yaml\",\n",
        "    split='test',\n",
        "    conf=tuned_conf,  # tuned confidence threshold during evaluation\n",
        "    iou=tuned_iou     # tuned IoU threshold during evaluation\n",
        ")\n",
        "\n",
        "print(f\"mAP50: {metrics.box.map50}\")  # Average Precision at IoU 0.5\n",
        "print(f\"mAP75: {metrics.box.map75}\")  # Average Precision at IoU 0.75"
      ],
      "metadata": {
        "id": "cOXFPBdjL6OW"
      },
      "execution_count": null,
      "outputs": []
    },
    {
      "cell_type": "code",
      "execution_count": null,
      "metadata": {
        "id": "mbGLQqWq_7hk",
        "colab": {
          "base_uri": "https://localhost:8080/"
        },
        "outputId": "307cad70-2b76-4164-cb1f-ef7be4dda28f"
      },
      "outputs": [
        {
          "output_type": "stream",
          "name": "stdout",
          "text": [
            "Creating new Ultralytics Settings v0.0.6 file ✅ \n",
            "View Ultralytics Settings with 'yolo settings' or at '/root/.config/Ultralytics/settings.json'\n",
            "Update Settings with 'yolo settings key=value', i.e. 'yolo settings runs_dir=path/to/dir'. For help see https://docs.ultralytics.com/quickstart/#ultralytics-settings.\n",
            "Ultralytics 8.3.72 🚀 Python-3.11.11 torch-2.5.1+cu124 CPU (Intel Xeon 2.20GHz)\n",
            "YOLO11s summary (fused): 238 layers, 9,413,574 parameters, 0 gradients, 21.3 GFLOPs\n",
            "Downloading https://ultralytics.com/assets/Arial.ttf to '/root/.config/Ultralytics/Arial.ttf'...\n"
          ]
        },
        {
          "output_type": "stream",
          "name": "stderr",
          "text": [
            "100%|██████████| 755k/755k [00:00<00:00, 21.2MB/s]\n",
            "\u001b[34m\u001b[1mval: \u001b[0mScanning /content/drive/MyDrive/Landslide_Dataset/test/labels... 574 images, 44 backgrounds, 0 corrupt: 100%|██████████| 574/574 [04:16<00:00,  2.24it/s]\n"
          ]
        },
        {
          "output_type": "stream",
          "name": "stdout",
          "text": [
            "\u001b[34m\u001b[1mval: \u001b[0mNew cache created: /content/drive/MyDrive/Landslide_Dataset/test/labels.cache\n"
          ]
        },
        {
          "output_type": "stream",
          "name": "stderr",
          "text": [
            "                 Class     Images  Instances      Box(P          R      mAP50  mAP50-95): 100%|██████████| 36/36 [04:49<00:00,  8.04s/it]\n"
          ]
        },
        {
          "output_type": "stream",
          "name": "stdout",
          "text": [
            "                   all        574       1045      0.664      0.593      0.648       0.33\n",
            "               Fissure        177        338      0.716      0.343      0.474      0.202\n",
            "             Landslide        426        707      0.612      0.843      0.821      0.458\n",
            "Speed: 4.6ms preprocess, 431.4ms inference, 0.0ms loss, 0.5ms postprocess per image\n",
            "Results saved to \u001b[1mruns/detect/val\u001b[0m\n",
            "mAP50: 0.647900577669211\n",
            "mAP75: 0.2795648106204136\n"
          ]
        }
      ],
      "source": [
        "\n",
        "\n",
        "metrics = model.val(data=\"/content/drive/MyDrive/Landslide_Dataset/data.yaml\", split='test')\n",
        "print(f\"mAP50: {metrics.box.map50}\") # mAP refers to the Average Precision at a single IoU threshold, often 50%.\n",
        "print(f\"mAP75: {metrics.box.map75}\") # mAP at IoU threshold of 75% (mAP75)"
      ]
    },
    {
      "cell_type": "code",
      "source": [
        "from google.colab import drive\n",
        "drive.mount('/content/drive')"
      ],
      "metadata": {
        "id": "6MpDrjkIGaC7",
        "outputId": "f4f0dd63-10b2-427f-f403-9f8c520b1bb6",
        "colab": {
          "base_uri": "https://localhost:8080/"
        }
      },
      "execution_count": null,
      "outputs": [
        {
          "output_type": "stream",
          "name": "stdout",
          "text": [
            "Mounted at /content/drive\n"
          ]
        }
      ]
    }
  ],
  "metadata": {
    "accelerator": "GPU",
    "colab": {
      "gpuType": "T4",
      "provenance": [],
      "include_colab_link": true
    },
    "kernelspec": {
      "display_name": "Python 3",
      "name": "python3"
    },
    "language_info": {
      "name": "python"
    }
  },
  "nbformat": 4,
  "nbformat_minor": 0
}