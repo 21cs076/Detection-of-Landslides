{
  "cells": [
    {
      "cell_type": "markdown",
      "metadata": {
        "id": "view-in-github",
        "colab_type": "text"
      },
      "source": [
        "<a href=\"https://colab.research.google.com/github/21cs076/Real-Time-Landslide-Detection-and-Buried-Vehicle-Identification-using-YOLOv8/blob/main/train.ipynb\" target=\"_parent\"><img src=\"https://colab.research.google.com/assets/colab-badge.svg\" alt=\"Open In Colab\"/></a>"
      ]
    },
    {
      "cell_type": "code",
      "execution_count": null,
      "metadata": {
        "id": "Ewl1p47Skgdv",
        "collapsed": true
      },
      "outputs": [],
      "source": [
        "!pip install ultralytics\n",
        "!pip install roboflow\n",
        "!pip install kagglehub\n",
        "!pip install onnx\n",
        "!pip install onnxruntime\n",
        "!pip install onnxruntime-gpu\n",
        "\n",
        "from ultralytics import YOLO\n",
        "\n",
        "# Load YOLOv8 model\n",
        "model = YOLO('yolov10n.pt')\n",
        "\n",
        "# Perform inference on an image from Google Drive\n",
        "results = model('https://ultralytics.com/images/bus.jpg')\n",
        "\n",
        "# Iterate through the results and display each\n",
        "for result in results:\n",
        "    result.show()"
      ]
    },
    {
      "cell_type": "code",
      "source": [
        "from roboflow import Roboflow\n",
        "rf = Roboflow(api_key=\"4MptKsSsONT0fnQsIDc2\")\n",
        "project = rf.workspace(\"deslizamentos\").project(\"landslide-detection-augmentation\")\n",
        "version = project.version(12)\n",
        "dataset = version.download(\"yolov8\")\n",
        ""
      ],
      "metadata": {
        "collapsed": true,
        "id": "NikWQ4stMuQM"
      },
      "execution_count": null,
      "outputs": []
    },
    {
      "cell_type": "code",
      "execution_count": null,
      "metadata": {
        "id": "SdGtmANZkgdz",
        "collapsed": true
      },
      "outputs": [],
      "source": [
        "from ultralytics import YOLO\n",
        "\n",
        "# Load a pre-trained YOLOv5 model (You can replace it with other YOLOv5 variants like yolov5m.pt, yolov5l.pt, etc.)\n",
        "model = YOLO(\"yolov10n.pt\")  # Replace with yolov5m.pt or yolov5l.pt for larger models\n",
        "\n",
        "# Train the model on your Landslide dataset\n",
        "model.train(\n",
        "    data=\"/content/Landslide-Detection-Augmentation-12/data.yaml\",  # Path to your data.yaml file\n",
        "    epochs=150,  # Number of epochs (adjust based on your needs)\n",
        "    batch=16,   # Batch size (adjust based on GPU memory)\n",
        "    imgsz=640,  # Image size for training (640 is a good choice)\n",
        "    project=\"runs/train\",  # Directory to save training results\n",
        "    name=\"landslide_detection\",  # Name for the training run\n",
        "    exist_ok=True  # Overwrite existing results if any\n",
        ")\n",
        "\n",
        "model.save(\"/content/Landslide-Detection-Augmentation-12/lsmodel.pt\")"
      ]
    },
    {
      "cell_type": "code",
      "source": [
        "from ultralytics import YOLO\n",
        "\n",
        "# Load the trained YOLO model\n",
        "model = YOLO(\"/content/Landslide-Detection-Augmentation-12/lsmodel.pt\")  # Replace with your trained model path\n",
        "\n",
        "# Path to the test dataset (folder of images)\n",
        "test_images_path = \"/content/Landslide-Detection-Augmentation-12/test/images\"  # Replace with your test images path\n",
        "\n",
        "# Use the model.val() method to evaluate the model on the test dataset\n",
        "# The data.yaml file contains the information about the test set including the labels.\n",
        "metrics = model.val(data=\"/content/Landslide-Detection-Augmentation-12/data.yaml\", task=\"detect\")\n",
        "\n",
        "# Print the mAP\n",
        "print(f\"mAP: {metrics.box.maps}\")"
      ],
      "metadata": {
        "id": "mbGLQqWq_7hk",
        "outputId": "56057456-50cd-47b5-a94f-7c2d91beeb0a",
        "colab": {
          "base_uri": "https://localhost:8080/"
        }
      },
      "execution_count": 7,
      "outputs": [
        {
          "output_type": "stream",
          "name": "stdout",
          "text": [
            "Ultralytics 8.3.56 🚀 Python-3.10.12 torch-2.5.1+cu121 CUDA:0 (Tesla T4, 15102MiB)\n",
            "YOLOv10n summary (fused): 285 layers, 2,695,196 parameters, 0 gradients, 8.2 GFLOPs\n"
          ]
        },
        {
          "output_type": "stream",
          "name": "stderr",
          "text": [
            "\u001b[34m\u001b[1mval: \u001b[0mScanning /content/Landslide-Detection-Augmentation-12/valid/labels.cache... 115 images, 37 backgrounds, 0 corrupt: 100%|██████████| 115/115 [00:00<?, ?it/s]\n",
            "                 Class     Images  Instances      Box(P          R      mAP50  mAP50-95): 100%|██████████| 8/8 [00:02<00:00,  2.67it/s]\n"
          ]
        },
        {
          "output_type": "stream",
          "name": "stdout",
          "text": [
            "                   all        115        162      0.613      0.438      0.459      0.209\n",
            "               Fissure         29         60      0.574      0.337       0.38      0.183\n",
            "             Landslide         61        102      0.652      0.539      0.537      0.235\n",
            "Speed: 0.3ms preprocess, 9.5ms inference, 0.0ms loss, 0.5ms postprocess per image\n",
            "Results saved to \u001b[1mruns/detect/val\u001b[0m\n",
            "mAP: [    0.18272     0.23505]\n"
          ]
        }
      ]
    },
    {
      "cell_type": "code",
      "source": [
        "import onnxruntime as ort\n",
        "import numpy as np\n",
        "\n",
        "# Load the exported ONNX model using onnxruntime for inference\n",
        "onnx_model_path = '/root/.cache/kagglehub/datasets/pypiahmad/landslide4sense-challenge/versions/1/best_model.onnx'\n",
        "onnx_session = ort.InferenceSession(onnx_model_path)\n",
        "\n",
        "# Inference example using ONNX model (dummy input)\n",
        "# Assuming input is a 640x640 image\n",
        "dummy_input = np.random.rand(1, 3, 640, 640).astype(np.float32)\n",
        "\n",
        "# Run inference\n",
        "outputs = onnx_session.run(None, {'images': dummy_input})\n",
        "\n",
        "# Print the outputs (you can process it based on your needs)\n",
        "print(outputs)\n"
      ],
      "metadata": {
        "id": "BMxjjxn25aAw"
      },
      "execution_count": null,
      "outputs": []
    },
    {
      "cell_type": "code",
      "execution_count": null,
      "metadata": {
        "id": "nHYVsTg_kgd0"
      },
      "outputs": [],
      "source": [
        "# Clone YOLOv8 repository\n",
        "!git clone https://github.com/ultralytics/ultralytics.git\n",
        "%cd ultralytics\n"
      ]
    }
  ],
  "metadata": {
    "language_info": {
      "name": "python"
    },
    "colab": {
      "provenance": [],
      "gpuType": "T4",
      "include_colab_link": true
    },
    "kernelspec": {
      "name": "python3",
      "display_name": "Python 3"
    },
    "accelerator": "GPU"
  },
  "nbformat": 4,
  "nbformat_minor": 0
}