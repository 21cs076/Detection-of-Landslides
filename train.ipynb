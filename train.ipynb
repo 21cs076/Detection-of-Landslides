{
  "cells": [
    {
      "cell_type": "markdown",
      "metadata": {
        "id": "view-in-github",
        "colab_type": "text"
      },
      "source": [
        "<a href=\"https://colab.research.google.com/github/21cs076/Real-Time-Landslide-Detection-and-Buried-Vehicle-Identification-using-YOLOv8/blob/main/train.ipynb\" target=\"_parent\"><img src=\"https://colab.research.google.com/assets/colab-badge.svg\" alt=\"Open In Colab\"/></a>"
      ]
    },
    {
      "cell_type": "code",
      "execution_count": null,
      "metadata": {
        "id": "Ewl1p47Skgdv",
        "collapsed": true
      },
      "outputs": [],
      "source": [
        "!pip install ultralytics\n",
        "!pip install roboflow\n",
        "\n",
        "from ultralytics import YOLO\n",
        "\n",
        "# Load YOLOv8 model\n",
        "model = YOLO('yolov10n.pt')\n",
        "\n",
        "# Perform inference on an image from Google Drive\n",
        "results = model('https://ultralytics.com/images/bus.jpg')\n",
        "\n",
        "# Iterate through the results and display each\n",
        "for result in results:\n",
        "    result.show()"
      ]
    },
    {
      "cell_type": "code",
      "source": [
        "from roboflow import Roboflow\n",
        "rf = Roboflow(api_key=\"4MptKsSsONT0fnQsIDc2\")\n",
        "project = rf.workspace(\"deslizamentos\").project(\"landslide-detection-augmentation\")\n",
        "version = project.version(12)\n",
        "dataset = version.download(\"yolov8\")\n"
      ],
      "metadata": {
        "collapsed": true,
        "id": "NikWQ4stMuQM"
      },
      "execution_count": null,
      "outputs": []
    },
    {
      "cell_type": "code",
      "execution_count": null,
      "metadata": {
        "id": "SdGtmANZkgdz",
        "collapsed": true
      },
      "outputs": [],
      "source": [
        "from ultralytics import YOLO\n",
        "\n",
        "# Load a pre-trained YOLOv8 model\n",
        "model = YOLO(\"yolov8n.pt\")\n",
        "\n",
        "# Define early stopping parameters\n",
        "patience = 10\n",
        "best_loss = float('inf')\n",
        "counter = 0\n",
        "\n",
        "# Custom training loop with early stopping\n",
        "for epoch in range(135):\n",
        "    print(f\"Epoch {epoch+1}/135\")\n",
        "\n",
        "    # Train the model for one epoch\n",
        "    model.train(\n",
        "        data=\"/content/Landslide-Detection-Augmentation-12/data.yaml\",\n",
        "        epochs=1,\n",
        "        batch=16,\n",
        "        imgsz=640,\n",
        "        project=\"runs/train\",\n",
        "        name=\"landslide_detection\",\n",
        "        exist_ok=True\n",
        "    )\n",
        "\n",
        "    # Validate the model and get the validation loss\n",
        "    results = model.val(data=\"/content/Landslide-Detection-Augmentation-12/data.yaml\", task=\"detect\")\n",
        "    val_loss = results['metrics']['box']['val_loss']\n",
        "\n",
        "    # Check if the validation loss has improved\n",
        "    if val_loss < best_loss:\n",
        "        best_loss = val_loss\n",
        "        counter = 0\n",
        "        # Save the model weights if validation loss improves\n",
        "        model.save(\"/content/Landslide-Detection-Augmentation-12/best10.pt\")\n",
        "    else:\n",
        "        counter += 1\n",
        "\n",
        "    # Early stopping\n",
        "    if counter >= patience:\n",
        "        print(\"Early stopping triggered\")\n",
        "        break\n",
        "\n",
        "print(\"Training completed\")"
      ]
    },
    {
      "cell_type": "code",
      "source": [
        "from google.colab import files\n",
        "uploaded = files.upload()\n",
        "\n",
        "import os\n",
        "os.listdir('/content')"
      ],
      "metadata": {
        "id": "wuVPG_XJdVH7"
      },
      "execution_count": null,
      "outputs": []
    },
    {
      "cell_type": "code",
      "source": [
        "from ultralytics import YOLO\n",
        "\n",
        "# Load the trained YOLO model\n",
        "model = YOLO(\"/content/best.pt\")\n",
        "# Evaluate the model using the val() method\n",
        "metrics = model.val(data=\"/content/Landslide-Detection-Augmentation-12/data.yaml\", task=\"detect\")\n",
        "\n",
        "# Print evaluation metrics\n",
        "print(f\"mAP: {metrics.box.maps}\")\n",
        "print(f\"mAP50: {metrics.box.map50}\")\n",
        "print(f\"mAP75: {metrics.box.map75}\")  # mAP at IoU thresholds of 50% (mAP50) and 75% (mAP75)"
      ],
      "metadata": {
        "id": "mbGLQqWq_7hk",
        "outputId": "77715d5d-8760-4675-cf0d-551bccc05004",
        "colab": {
          "base_uri": "https://localhost:8080/"
        }
      },
      "execution_count": 23,
      "outputs": [
        {
          "output_type": "stream",
          "name": "stdout",
          "text": [
            "Ultralytics 8.3.56 🚀 Python-3.10.12 torch-2.5.1+cu121 CPU (Intel Xeon 2.20GHz)\n",
            "YOLOv10n summary (fused): 285 layers, 2,695,196 parameters, 0 gradients, 8.2 GFLOPs\n"
          ]
        },
        {
          "output_type": "stream",
          "name": "stderr",
          "text": [
            "\u001b[34m\u001b[1mval: \u001b[0mScanning /content/Landslide-Detection-Augmentation-12/valid/labels.cache... 115 images, 37 backgrounds, 0 corrupt: 100%|██████████| 115/115 [00:00<?, ?it/s]\n",
            "                 Class     Images  Instances      Box(P          R      mAP50  mAP50-95): 100%|██████████| 8/8 [00:24<00:00,  3.05s/it]\n"
          ]
        },
        {
          "output_type": "stream",
          "name": "stdout",
          "text": [
            "                   all        115        162      0.649      0.415      0.445      0.205\n",
            "               Fissure         29         60      0.558       0.35      0.378      0.179\n",
            "             Landslide         61        102      0.741       0.48      0.513      0.231\n",
            "Speed: 2.4ms preprocess, 182.7ms inference, 0.0ms loss, 0.1ms postprocess per image\n",
            "Results saved to \u001b[1mruns/detect/val6\u001b[0m\n",
            "mAP: [    0.17895     0.23135]\n",
            "mAP50: 0.44538361500741763\n",
            "mAP75: 0.1626047778303505\n"
          ]
        }
      ]
    },
    {
      "cell_type": "code",
      "source": [
        "!pip install onnx\n",
        "!pip install onnxruntime-gpu\n",
        "\n",
        "import torch\n",
        "import onnxruntime as ort\n",
        "import numpy as np\n",
        "\n",
        "# Convert to ONNX format\n",
        "onnx_model_path = \"/content/Landslide-Detection-Augmentation-12/lsmodel.onnx\"\n",
        "torch.onnx.export(\n",
        "    model.model,\n",
        "    torch.randn(1, 3, 640, 640),\n",
        "    onnx_model_path,\n",
        "    opset_version=11,\n",
        "    input_names=[\"input\"],\n",
        "    output_names=[\"output\"]\n",
        ")\n",
        "\n",
        "print(f\"Model has been converted to ONNX format and saved at: {onnx_model_path}\")\n",
        "\n",
        "# Load and run inference using ONNX model\n",
        "onnx_session = ort.InferenceSession(onnx_model_path)\n",
        "outputs = onnx_session.run(None, {'input': np.random.rand(1, 3, 640, 640).astype(np.float32)})\n",
        "\n",
        "print(outputs)"
      ],
      "metadata": {
        "id": "BMxjjxn25aAw"
      },
      "execution_count": null,
      "outputs": []
    },
    {
      "cell_type": "code",
      "execution_count": null,
      "metadata": {
        "id": "nHYVsTg_kgd0"
      },
      "outputs": [],
      "source": [
        "# Clone YOLOv8 repository\n",
        "!git clone https://github.com/ultralytics/ultralytics.git\n",
        "%cd ultralytics\n"
      ]
    }
  ],
  "metadata": {
    "language_info": {
      "name": "python"
    },
    "colab": {
      "provenance": [],
      "gpuType": "T4",
      "include_colab_link": true
    },
    "kernelspec": {
      "name": "python3",
      "display_name": "Python 3"
    },
    "accelerator": "GPU"
  },
  "nbformat": 4,
  "nbformat_minor": 0
}